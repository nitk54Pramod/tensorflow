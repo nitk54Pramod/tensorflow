{
  "nbformat": 4,
  "nbformat_minor": 0,
  "metadata": {
    "colab": {
      "name": "Boosted Tree with tensorflow",
      "provenance": [],
      "collapsed_sections": []
    },
    "kernelspec": {
      "name": "python3",
      "display_name": "Python 3"
    }
  },
  "cells": [
    {
      "cell_type": "markdown",
      "metadata": {
        "id": "BcXOIwIQx0x-",
        "colab_type": "text"
      },
      "source": [
        ""
      ]
    },
    {
      "cell_type": "code",
      "metadata": {
        "id": "rHgMwSJnIli3",
        "colab_type": "code",
        "colab": {}
      },
      "source": [
        "from __future__ import absolute_import, division, print_function, unicode_literals\n",
        "import pandas as pd\n",
        "import seaborn as sns\n",
        "import tensorflow as tf\n",
        "import numpy as np\n",
        "from tensorflow import keras\n",
        "from tensorflow.estimator import BoostedTreesClassifier\n",
        "from sklearn.model_selection import train_test_split\n",
        "from sklearn.metrics import accuracy_score, precision_score, recall_score\n",
        "from sklearn.datasets import load_iris\n",
        "from matplotlib import pyplot as plt"
      ],
      "execution_count": 100,
      "outputs": []
    },
    {
      "cell_type": "markdown",
      "metadata": {
        "id": "CPjuJGvAzjiC",
        "colab_type": "text"
      },
      "source": [
        "### Load the Iris Dataset"
      ]
    },
    {
      "cell_type": "code",
      "metadata": {
        "id": "Z-fULpmczdJE",
        "colab_type": "code",
        "colab": {}
      },
      "source": [
        "iris = load_iris()"
      ],
      "execution_count": 101,
      "outputs": []
    },
    {
      "cell_type": "code",
      "metadata": {
        "id": "vvb2LeoAz5UC",
        "colab_type": "code",
        "colab": {}
      },
      "source": [
        "df = pd.DataFrame(data= np.c_[iris['data'], iris['target']],columns= iris['feature_names'] + ['target'])"
      ],
      "execution_count": 102,
      "outputs": []
    },
    {
      "cell_type": "code",
      "metadata": {
        "id": "T-rFd7r30SA9",
        "colab_type": "code",
        "colab": {
          "base_uri": "https://localhost:8080/",
          "height": 204
        },
        "outputId": "24a1657f-5ecd-4dd7-c688-f3d6dd565b2e"
      },
      "source": [
        "df.head()"
      ],
      "execution_count": 103,
      "outputs": [
        {
          "output_type": "execute_result",
          "data": {
            "text/html": [
              "<div>\n",
              "<style scoped>\n",
              "    .dataframe tbody tr th:only-of-type {\n",
              "        vertical-align: middle;\n",
              "    }\n",
              "\n",
              "    .dataframe tbody tr th {\n",
              "        vertical-align: top;\n",
              "    }\n",
              "\n",
              "    .dataframe thead th {\n",
              "        text-align: right;\n",
              "    }\n",
              "</style>\n",
              "<table border=\"1\" class=\"dataframe\">\n",
              "  <thead>\n",
              "    <tr style=\"text-align: right;\">\n",
              "      <th></th>\n",
              "      <th>sepal length (cm)</th>\n",
              "      <th>sepal width (cm)</th>\n",
              "      <th>petal length (cm)</th>\n",
              "      <th>petal width (cm)</th>\n",
              "      <th>target</th>\n",
              "    </tr>\n",
              "  </thead>\n",
              "  <tbody>\n",
              "    <tr>\n",
              "      <th>0</th>\n",
              "      <td>5.1</td>\n",
              "      <td>3.5</td>\n",
              "      <td>1.4</td>\n",
              "      <td>0.2</td>\n",
              "      <td>0.0</td>\n",
              "    </tr>\n",
              "    <tr>\n",
              "      <th>1</th>\n",
              "      <td>4.9</td>\n",
              "      <td>3.0</td>\n",
              "      <td>1.4</td>\n",
              "      <td>0.2</td>\n",
              "      <td>0.0</td>\n",
              "    </tr>\n",
              "    <tr>\n",
              "      <th>2</th>\n",
              "      <td>4.7</td>\n",
              "      <td>3.2</td>\n",
              "      <td>1.3</td>\n",
              "      <td>0.2</td>\n",
              "      <td>0.0</td>\n",
              "    </tr>\n",
              "    <tr>\n",
              "      <th>3</th>\n",
              "      <td>4.6</td>\n",
              "      <td>3.1</td>\n",
              "      <td>1.5</td>\n",
              "      <td>0.2</td>\n",
              "      <td>0.0</td>\n",
              "    </tr>\n",
              "    <tr>\n",
              "      <th>4</th>\n",
              "      <td>5.0</td>\n",
              "      <td>3.6</td>\n",
              "      <td>1.4</td>\n",
              "      <td>0.2</td>\n",
              "      <td>0.0</td>\n",
              "    </tr>\n",
              "  </tbody>\n",
              "</table>\n",
              "</div>"
            ],
            "text/plain": [
              "   sepal length (cm)  sepal width (cm)  ...  petal width (cm)  target\n",
              "0                5.1               3.5  ...               0.2     0.0\n",
              "1                4.9               3.0  ...               0.2     0.0\n",
              "2                4.7               3.2  ...               0.2     0.0\n",
              "3                4.6               3.1  ...               0.2     0.0\n",
              "4                5.0               3.6  ...               0.2     0.0\n",
              "\n",
              "[5 rows x 5 columns]"
            ]
          },
          "metadata": {
            "tags": []
          },
          "execution_count": 103
        }
      ]
    },
    {
      "cell_type": "code",
      "metadata": {
        "id": "zMimkviP0UQ8",
        "colab_type": "code",
        "colab": {
          "base_uri": "https://localhost:8080/",
          "height": 85
        },
        "outputId": "14b0cb90-7c13-464e-847c-a4919dd78ba6"
      },
      "source": [
        "df['target'].value_counts()"
      ],
      "execution_count": 104,
      "outputs": [
        {
          "output_type": "execute_result",
          "data": {
            "text/plain": [
              "2.0    50\n",
              "1.0    50\n",
              "0.0    50\n",
              "Name: target, dtype: int64"
            ]
          },
          "metadata": {
            "tags": []
          },
          "execution_count": 104
        }
      ]
    },
    {
      "cell_type": "code",
      "metadata": {
        "id": "io-Bl9Km09tO",
        "colab_type": "code",
        "colab": {}
      },
      "source": [
        "col_names = ['SepalLength', 'SepalWidth', 'PetalLength', 'PetalWidth', 'Species']\n",
        "target_names = ['Setosa', 'Versicolor', 'Virginica']"
      ],
      "execution_count": 105,
      "outputs": []
    },
    {
      "cell_type": "markdown",
      "metadata": {
        "id": "Ol0zixiK2Eva",
        "colab_type": "text"
      },
      "source": [
        "### Rename Column names"
      ]
    },
    {
      "cell_type": "code",
      "metadata": {
        "id": "tpQjb22C18fg",
        "colab_type": "code",
        "colab": {}
      },
      "source": [
        "col_dict = {}\n",
        "df_col = list(df.columns)\n",
        "for idx in range(len(df_col)):\n",
        "  col_dict[df_col[idx]] = col_names[idx]\n",
        "\n",
        "df = df.rename(columns=col_dict)"
      ],
      "execution_count": 106,
      "outputs": []
    },
    {
      "cell_type": "code",
      "metadata": {
        "id": "C8LQXSGh2gdv",
        "colab_type": "code",
        "colab": {
          "base_uri": "https://localhost:8080/",
          "height": 204
        },
        "outputId": "1961847a-abc0-44fb-dbea-1749cc1ed1b4"
      },
      "source": [
        "df.head()"
      ],
      "execution_count": 107,
      "outputs": [
        {
          "output_type": "execute_result",
          "data": {
            "text/html": [
              "<div>\n",
              "<style scoped>\n",
              "    .dataframe tbody tr th:only-of-type {\n",
              "        vertical-align: middle;\n",
              "    }\n",
              "\n",
              "    .dataframe tbody tr th {\n",
              "        vertical-align: top;\n",
              "    }\n",
              "\n",
              "    .dataframe thead th {\n",
              "        text-align: right;\n",
              "    }\n",
              "</style>\n",
              "<table border=\"1\" class=\"dataframe\">\n",
              "  <thead>\n",
              "    <tr style=\"text-align: right;\">\n",
              "      <th></th>\n",
              "      <th>SepalLength</th>\n",
              "      <th>SepalWidth</th>\n",
              "      <th>PetalLength</th>\n",
              "      <th>PetalWidth</th>\n",
              "      <th>Species</th>\n",
              "    </tr>\n",
              "  </thead>\n",
              "  <tbody>\n",
              "    <tr>\n",
              "      <th>0</th>\n",
              "      <td>5.1</td>\n",
              "      <td>3.5</td>\n",
              "      <td>1.4</td>\n",
              "      <td>0.2</td>\n",
              "      <td>0.0</td>\n",
              "    </tr>\n",
              "    <tr>\n",
              "      <th>1</th>\n",
              "      <td>4.9</td>\n",
              "      <td>3.0</td>\n",
              "      <td>1.4</td>\n",
              "      <td>0.2</td>\n",
              "      <td>0.0</td>\n",
              "    </tr>\n",
              "    <tr>\n",
              "      <th>2</th>\n",
              "      <td>4.7</td>\n",
              "      <td>3.2</td>\n",
              "      <td>1.3</td>\n",
              "      <td>0.2</td>\n",
              "      <td>0.0</td>\n",
              "    </tr>\n",
              "    <tr>\n",
              "      <th>3</th>\n",
              "      <td>4.6</td>\n",
              "      <td>3.1</td>\n",
              "      <td>1.5</td>\n",
              "      <td>0.2</td>\n",
              "      <td>0.0</td>\n",
              "    </tr>\n",
              "    <tr>\n",
              "      <th>4</th>\n",
              "      <td>5.0</td>\n",
              "      <td>3.6</td>\n",
              "      <td>1.4</td>\n",
              "      <td>0.2</td>\n",
              "      <td>0.0</td>\n",
              "    </tr>\n",
              "  </tbody>\n",
              "</table>\n",
              "</div>"
            ],
            "text/plain": [
              "   SepalLength  SepalWidth  PetalLength  PetalWidth  Species\n",
              "0          5.1         3.5          1.4         0.2      0.0\n",
              "1          4.9         3.0          1.4         0.2      0.0\n",
              "2          4.7         3.2          1.3         0.2      0.0\n",
              "3          4.6         3.1          1.5         0.2      0.0\n",
              "4          5.0         3.6          1.4         0.2      0.0"
            ]
          },
          "metadata": {
            "tags": []
          },
          "execution_count": 107
        }
      ]
    },
    {
      "cell_type": "markdown",
      "metadata": {
        "id": "MDSqImYk2j_b",
        "colab_type": "text"
      },
      "source": [
        "### as we are considering binary class classification then we have to take only two classes"
      ]
    },
    {
      "cell_type": "code",
      "metadata": {
        "id": "oTm6jUT-2hmb",
        "colab_type": "code",
        "colab": {}
      },
      "source": [
        "df= df[df['Species']>=1]\n",
        "map_dict = {1.0: 0, 2.0: 1}\n",
        "df = df.replace({\"Species\": map_dict})\n",
        "df['Species'] = df['Species'].astype(np.int64)"
      ],
      "execution_count": 108,
      "outputs": []
    },
    {
      "cell_type": "code",
      "metadata": {
        "id": "Ab30MK7Y21Xe",
        "colab_type": "code",
        "colab": {
          "base_uri": "https://localhost:8080/",
          "height": 68
        },
        "outputId": "ec2bdf1a-5fcc-45a1-abe3-f7ead4f37f64"
      },
      "source": [
        "df.Species.value_counts()"
      ],
      "execution_count": 109,
      "outputs": [
        {
          "output_type": "execute_result",
          "data": {
            "text/plain": [
              "1    50\n",
              "0    50\n",
              "Name: Species, dtype: int64"
            ]
          },
          "metadata": {
            "tags": []
          },
          "execution_count": 109
        }
      ]
    },
    {
      "cell_type": "code",
      "metadata": {
        "id": "_tGULfZM3CwX",
        "colab_type": "code",
        "colab": {}
      },
      "source": [
        "df.reset_index(inplace=True, drop=True)\n"
      ],
      "execution_count": 110,
      "outputs": []
    },
    {
      "cell_type": "code",
      "metadata": {
        "id": "MdIEJ9Wh3Lbk",
        "colab_type": "code",
        "colab": {
          "base_uri": "https://localhost:8080/",
          "height": 204
        },
        "outputId": "ba3f4cc4-f284-4e4c-ab93-395127b78d47"
      },
      "source": [
        "df.describe().transpose()"
      ],
      "execution_count": 111,
      "outputs": [
        {
          "output_type": "execute_result",
          "data": {
            "text/html": [
              "<div>\n",
              "<style scoped>\n",
              "    .dataframe tbody tr th:only-of-type {\n",
              "        vertical-align: middle;\n",
              "    }\n",
              "\n",
              "    .dataframe tbody tr th {\n",
              "        vertical-align: top;\n",
              "    }\n",
              "\n",
              "    .dataframe thead th {\n",
              "        text-align: right;\n",
              "    }\n",
              "</style>\n",
              "<table border=\"1\" class=\"dataframe\">\n",
              "  <thead>\n",
              "    <tr style=\"text-align: right;\">\n",
              "      <th></th>\n",
              "      <th>count</th>\n",
              "      <th>mean</th>\n",
              "      <th>std</th>\n",
              "      <th>min</th>\n",
              "      <th>25%</th>\n",
              "      <th>50%</th>\n",
              "      <th>75%</th>\n",
              "      <th>max</th>\n",
              "    </tr>\n",
              "  </thead>\n",
              "  <tbody>\n",
              "    <tr>\n",
              "      <th>SepalLength</th>\n",
              "      <td>100.0</td>\n",
              "      <td>6.262</td>\n",
              "      <td>0.662834</td>\n",
              "      <td>4.9</td>\n",
              "      <td>5.800</td>\n",
              "      <td>6.3</td>\n",
              "      <td>6.700</td>\n",
              "      <td>7.9</td>\n",
              "    </tr>\n",
              "    <tr>\n",
              "      <th>SepalWidth</th>\n",
              "      <td>100.0</td>\n",
              "      <td>2.872</td>\n",
              "      <td>0.332751</td>\n",
              "      <td>2.0</td>\n",
              "      <td>2.700</td>\n",
              "      <td>2.9</td>\n",
              "      <td>3.025</td>\n",
              "      <td>3.8</td>\n",
              "    </tr>\n",
              "    <tr>\n",
              "      <th>PetalLength</th>\n",
              "      <td>100.0</td>\n",
              "      <td>4.906</td>\n",
              "      <td>0.825578</td>\n",
              "      <td>3.0</td>\n",
              "      <td>4.375</td>\n",
              "      <td>4.9</td>\n",
              "      <td>5.525</td>\n",
              "      <td>6.9</td>\n",
              "    </tr>\n",
              "    <tr>\n",
              "      <th>PetalWidth</th>\n",
              "      <td>100.0</td>\n",
              "      <td>1.676</td>\n",
              "      <td>0.424769</td>\n",
              "      <td>1.0</td>\n",
              "      <td>1.300</td>\n",
              "      <td>1.6</td>\n",
              "      <td>2.000</td>\n",
              "      <td>2.5</td>\n",
              "    </tr>\n",
              "    <tr>\n",
              "      <th>Species</th>\n",
              "      <td>100.0</td>\n",
              "      <td>0.500</td>\n",
              "      <td>0.502519</td>\n",
              "      <td>0.0</td>\n",
              "      <td>0.000</td>\n",
              "      <td>0.5</td>\n",
              "      <td>1.000</td>\n",
              "      <td>1.0</td>\n",
              "    </tr>\n",
              "  </tbody>\n",
              "</table>\n",
              "</div>"
            ],
            "text/plain": [
              "             count   mean       std  min    25%  50%    75%  max\n",
              "SepalLength  100.0  6.262  0.662834  4.9  5.800  6.3  6.700  7.9\n",
              "SepalWidth   100.0  2.872  0.332751  2.0  2.700  2.9  3.025  3.8\n",
              "PetalLength  100.0  4.906  0.825578  3.0  4.375  4.9  5.525  6.9\n",
              "PetalWidth   100.0  1.676  0.424769  1.0  1.300  1.6  2.000  2.5\n",
              "Species      100.0  0.500  0.502519  0.0  0.000  0.5  1.000  1.0"
            ]
          },
          "metadata": {
            "tags": []
          },
          "execution_count": 111
        }
      ]
    },
    {
      "cell_type": "code",
      "metadata": {
        "id": "MbWq_E8W3Sq8",
        "colab_type": "code",
        "colab": {
          "base_uri": "https://localhost:8080/",
          "height": 765
        },
        "outputId": "a4ab552a-6844-4850-c9ad-8c8e03c39849"
      },
      "source": [
        "sns.pairplot(df,diag_kind='auto',hue='Species')"
      ],
      "execution_count": 112,
      "outputs": [
        {
          "output_type": "execute_result",
          "data": {
            "text/plain": [
              "<seaborn.axisgrid.PairGrid at 0x7f8ea8933cc0>"
            ]
          },
          "metadata": {
            "tags": []
          },
          "execution_count": 112
        },
        {
          "output_type": "display_data",
          "data": {
            "image/png": "[encoded data removed]",
            "text/plain": [
              "<Figure size 766.375x720 with 20 Axes>"
            ]
          },
          "metadata": {
            "tags": [],
            "needs_background": "light"
          }
        }
      ]
    },
    {
      "cell_type": "markdown",
      "metadata": {
        "id": "j7o88x_p443O",
        "colab_type": "text"
      },
      "source": [
        "in the above graph, The diagonal row is simply a histogram of each variable and number of occurrences.\n",
        "The bottom left is same as the top right with the axes flipped.\n",
        "the graphs apart from the diagonal showing the positive or negative correlation between variables"
      ]
    },
    {
      "cell_type": "code",
      "metadata": {
        "id": "ztNm1tkq3a-G",
        "colab_type": "code",
        "colab": {
          "base_uri": "https://localhost:8080/",
          "height": 145
        },
        "outputId": "3e361e65-8977-4b84-e72c-82731dc82255"
      },
      "source": [
        "corr_data = df.corr()\n",
        "corr_data.style.background_gradient(cmap='coolwarm',axis=None)"
      ],
      "execution_count": 113,
      "outputs": [
        {
          "output_type": "execute_result",
          "data": {
            "text/html": [
              "<style  type=\"text/css\" >\n",
              "    #T_a001a4c6_c46a_11ea_98a8_0242ac1c0002row0_col0 {\n",
              "            background-color:  #b40426;\n",
              "            color:  #f1f1f1;\n",
              "        }    #T_a001a4c6_c46a_11ea_98a8_0242ac1c0002row0_col1 {\n",
              "            background-color:  #b1cbfc;\n",
              "            color:  #000000;\n",
              "        }    #T_a001a4c6_c46a_11ea_98a8_0242ac1c0002row0_col2 {\n",
              "            background-color:  #f4987a;\n",
              "            color:  #000000;\n",
              "        }    #T_a001a4c6_c46a_11ea_98a8_0242ac1c0002row0_col3 {\n",
              "            background-color:  #c4d5f3;\n",
              "            color:  #000000;\n",
              "        }    #T_a001a4c6_c46a_11ea_98a8_0242ac1c0002row0_col4 {\n",
              "            background-color:  #93b5fe;\n",
              "            color:  #000000;\n",
              "        }    #T_a001a4c6_c46a_11ea_98a8_0242ac1c0002row1_col0 {\n",
              "            background-color:  #b1cbfc;\n",
              "            color:  #000000;\n",
              "        }    #T_a001a4c6_c46a_11ea_98a8_0242ac1c0002row1_col1 {\n",
              "            background-color:  #b40426;\n",
              "            color:  #f1f1f1;\n",
              "        }    #T_a001a4c6_c46a_11ea_98a8_0242ac1c0002row1_col2 {\n",
              "            background-color:  #a1c0ff;\n",
              "            color:  #000000;\n",
              "        }    #T_a001a4c6_c46a_11ea_98a8_0242ac1c0002row1_col3 {\n",
              "            background-color:  #b7cff9;\n",
              "            color:  #000000;\n",
              "        }    #T_a001a4c6_c46a_11ea_98a8_0242ac1c0002row1_col4 {\n",
              "            background-color:  #3b4cc0;\n",
              "            color:  #f1f1f1;\n",
              "        }    #T_a001a4c6_c46a_11ea_98a8_0242ac1c0002row2_col0 {\n",
              "            background-color:  #f4987a;\n",
              "            color:  #000000;\n",
              "        }    #T_a001a4c6_c46a_11ea_98a8_0242ac1c0002row2_col1 {\n",
              "            background-color:  #a1c0ff;\n",
              "            color:  #000000;\n",
              "        }    #T_a001a4c6_c46a_11ea_98a8_0242ac1c0002row2_col2 {\n",
              "            background-color:  #b40426;\n",
              "            color:  #f1f1f1;\n",
              "        }    #T_a001a4c6_c46a_11ea_98a8_0242ac1c0002row2_col3 {\n",
              "            background-color:  #f59c7d;\n",
              "            color:  #000000;\n",
              "        }    #T_a001a4c6_c46a_11ea_98a8_0242ac1c0002row2_col4 {\n",
              "            background-color:  #f7b093;\n",
              "            color:  #000000;\n",
              "        }    #T_a001a4c6_c46a_11ea_98a8_0242ac1c0002row3_col0 {\n",
              "            background-color:  #c4d5f3;\n",
              "            color:  #000000;\n",
              "        }    #T_a001a4c6_c46a_11ea_98a8_0242ac1c0002row3_col1 {\n",
              "            background-color:  #b7cff9;\n",
              "            color:  #000000;\n",
              "        }    #T_a001a4c6_c46a_11ea_98a8_0242ac1c0002row3_col2 {\n",
              "            background-color:  #f59c7d;\n",
              "            color:  #000000;\n",
              "        }    #T_a001a4c6_c46a_11ea_98a8_0242ac1c0002row3_col3 {\n",
              "            background-color:  #b40426;\n",
              "            color:  #f1f1f1;\n",
              "        }    #T_a001a4c6_c46a_11ea_98a8_0242ac1c0002row3_col4 {\n",
              "            background-color:  #f4987a;\n",
              "            color:  #000000;\n",
              "        }    #T_a001a4c6_c46a_11ea_98a8_0242ac1c0002row4_col0 {\n",
              "            background-color:  #93b5fe;\n",
              "            color:  #000000;\n",
              "        }    #T_a001a4c6_c46a_11ea_98a8_0242ac1c0002row4_col1 {\n",
              "            background-color:  #3b4cc0;\n",
              "            color:  #f1f1f1;\n",
              "        }    #T_a001a4c6_c46a_11ea_98a8_0242ac1c0002row4_col2 {\n",
              "            background-color:  #f7b093;\n",
              "            color:  #000000;\n",
              "        }    #T_a001a4c6_c46a_11ea_98a8_0242ac1c0002row4_col3 {\n",
              "            background-color:  #f4987a;\n",
              "            color:  #000000;\n",
              "        }    #T_a001a4c6_c46a_11ea_98a8_0242ac1c0002row4_col4 {\n",
              "            background-color:  #b40426;\n",
              "            color:  #f1f1f1;\n",
              "        }</style><table id=\"T_a001a4c6_c46a_11ea_98a8_0242ac1c0002\" ><thead>    <tr>        <th class=\"blank level0\" ></th>        <th class=\"col_heading level0 col0\" >SepalLength</th>        <th class=\"col_heading level0 col1\" >SepalWidth</th>        <th class=\"col_heading level0 col2\" >PetalLength</th>        <th class=\"col_heading level0 col3\" >PetalWidth</th>        <th class=\"col_heading level0 col4\" >Species</th>    </tr></thead><tbody>\n",
              "                <tr>\n",
              "                        <th id=\"T_a001a4c6_c46a_11ea_98a8_0242ac1c0002level0_row0\" class=\"row_heading level0 row0\" >SepalLength</th>\n",
              "                        <td id=\"T_a001a4c6_c46a_11ea_98a8_0242ac1c0002row0_col0\" class=\"data row0 col0\" >1.000000</td>\n",
              "                        <td id=\"T_a001a4c6_c46a_11ea_98a8_0242ac1c0002row0_col1\" class=\"data row0 col1\" >0.553855</td>\n",
              "                        <td id=\"T_a001a4c6_c46a_11ea_98a8_0242ac1c0002row0_col2\" class=\"data row0 col2\" >0.828479</td>\n",
              "                        <td id=\"T_a001a4c6_c46a_11ea_98a8_0242ac1c0002row0_col3\" class=\"data row0 col3\" >0.593709</td>\n",
              "                        <td id=\"T_a001a4c6_c46a_11ea_98a8_0242ac1c0002row0_col4\" class=\"data row0 col4\" >0.494305</td>\n",
              "            </tr>\n",
              "            <tr>\n",
              "                        <th id=\"T_a001a4c6_c46a_11ea_98a8_0242ac1c0002level0_row1\" class=\"row_heading level0 row1\" >SepalWidth</th>\n",
              "                        <td id=\"T_a001a4c6_c46a_11ea_98a8_0242ac1c0002row1_col0\" class=\"data row1 col0\" >0.553855</td>\n",
              "                        <td id=\"T_a001a4c6_c46a_11ea_98a8_0242ac1c0002row1_col1\" class=\"data row1 col1\" >1.000000</td>\n",
              "                        <td id=\"T_a001a4c6_c46a_11ea_98a8_0242ac1c0002row1_col2\" class=\"data row1 col2\" >0.519802</td>\n",
              "                        <td id=\"T_a001a4c6_c46a_11ea_98a8_0242ac1c0002row1_col3\" class=\"data row1 col3\" >0.566203</td>\n",
              "                        <td id=\"T_a001a4c6_c46a_11ea_98a8_0242ac1c0002row1_col4\" class=\"data row1 col4\" >0.308080</td>\n",
              "            </tr>\n",
              "            <tr>\n",
              "                        <th id=\"T_a001a4c6_c46a_11ea_98a8_0242ac1c0002level0_row2\" class=\"row_heading level0 row2\" >PetalLength</th>\n",
              "                        <td id=\"T_a001a4c6_c46a_11ea_98a8_0242ac1c0002row2_col0\" class=\"data row2 col0\" >0.828479</td>\n",
              "                        <td id=\"T_a001a4c6_c46a_11ea_98a8_0242ac1c0002row2_col1\" class=\"data row2 col1\" >0.519802</td>\n",
              "                        <td id=\"T_a001a4c6_c46a_11ea_98a8_0242ac1c0002row2_col2\" class=\"data row2 col2\" >1.000000</td>\n",
              "                        <td id=\"T_a001a4c6_c46a_11ea_98a8_0242ac1c0002row2_col3\" class=\"data row2 col3\" >0.823348</td>\n",
              "                        <td id=\"T_a001a4c6_c46a_11ea_98a8_0242ac1c0002row2_col4\" class=\"data row2 col4\" >0.786424</td>\n",
              "            </tr>\n",
              "            <tr>\n",
              "                        <th id=\"T_a001a4c6_c46a_11ea_98a8_0242ac1c0002level0_row3\" class=\"row_heading level0 row3\" >PetalWidth</th>\n",
              "                        <td id=\"T_a001a4c6_c46a_11ea_98a8_0242ac1c0002row3_col0\" class=\"data row3 col0\" >0.593709</td>\n",
              "                        <td id=\"T_a001a4c6_c46a_11ea_98a8_0242ac1c0002row3_col1\" class=\"data row3 col1\" >0.566203</td>\n",
              "                        <td id=\"T_a001a4c6_c46a_11ea_98a8_0242ac1c0002row3_col2\" class=\"data row3 col2\" >0.823348</td>\n",
              "                        <td id=\"T_a001a4c6_c46a_11ea_98a8_0242ac1c0002row3_col3\" class=\"data row3 col3\" >1.000000</td>\n",
              "                        <td id=\"T_a001a4c6_c46a_11ea_98a8_0242ac1c0002row3_col4\" class=\"data row3 col4\" >0.828129</td>\n",
              "            </tr>\n",
              "            <tr>\n",
              "                        <th id=\"T_a001a4c6_c46a_11ea_98a8_0242ac1c0002level0_row4\" class=\"row_heading level0 row4\" >Species</th>\n",
              "                        <td id=\"T_a001a4c6_c46a_11ea_98a8_0242ac1c0002row4_col0\" class=\"data row4 col0\" >0.494305</td>\n",
              "                        <td id=\"T_a001a4c6_c46a_11ea_98a8_0242ac1c0002row4_col1\" class=\"data row4 col1\" >0.308080</td>\n",
              "                        <td id=\"T_a001a4c6_c46a_11ea_98a8_0242ac1c0002row4_col2\" class=\"data row4 col2\" >0.786424</td>\n",
              "                        <td id=\"T_a001a4c6_c46a_11ea_98a8_0242ac1c0002row4_col3\" class=\"data row4 col3\" >0.828129</td>\n",
              "                        <td id=\"T_a001a4c6_c46a_11ea_98a8_0242ac1c0002row4_col4\" class=\"data row4 col4\" >1.000000</td>\n",
              "            </tr>\n",
              "    </tbody></table>"
            ],
            "text/plain": [
              "<pandas.io.formats.style.Styler at 0x7f8ea4eeda20>"
            ]
          },
          "metadata": {
            "tags": []
          },
          "execution_count": 113
        }
      ]
    },
    {
      "cell_type": "markdown",
      "metadata": {
        "id": "lh_wasMo7-N7",
        "colab_type": "text"
      },
      "source": [
        "this is a correlation matrix between each variable."
      ]
    },
    {
      "cell_type": "code",
      "metadata": {
        "id": "Vv-W1t5g4lZV",
        "colab_type": "code",
        "colab": {}
      },
      "source": [
        "mask = np.zeros_like(corr_data, dtype=np.bool)\n",
        "mask[np.triu_indices_from(mask)]= True"
      ],
      "execution_count": 114,
      "outputs": []
    },
    {
      "cell_type": "code",
      "metadata": {
        "id": "YfzxlvhM69fJ",
        "colab_type": "code",
        "colab": {
          "base_uri": "https://localhost:8080/",
          "height": 539
        },
        "outputId": "55cb0ffc-efee-4ad6-9e5b-0b04b6060459"
      },
      "source": [
        "f, ax = plt.subplots(figsize=(11, 15)) \n",
        "heatmap = sns.heatmap(corr_data, \n",
        "                      mask = mask,\n",
        "                      square = True,\n",
        "                      linewidths = .5,\n",
        "                      cmap = 'coolwarm',\n",
        "                      cbar_kws = {'shrink': .4, \n",
        "                                'ticks' : [-1, -.5, 0, 0.5, 1]},\n",
        "                      vmin = -1, \n",
        "                      vmax = 1,\n",
        "                      annot = True,\n",
        "                      annot_kws = {\"size\": 12})\n",
        "#add the column names as labels\n",
        "ax.set_yticklabels(corr_data.columns, rotation = 0)\n",
        "ax.set_xticklabels(corr_data.columns)\n",
        "sns.set_style({'xtick.bottom': True}, {'ytick.left': True})"
      ],
      "execution_count": 115,
      "outputs": [
        {
          "output_type": "display_data",
          "data": {
            "image/png": "[encoded data removed]",
            "text/plain": [
              "<Figure size 792x1080 with 2 Axes>"
            ]
          },
          "metadata": {
            "tags": [],
            "needs_background": "light"
          }
        }
      ]
    },
    {
      "cell_type": "markdown",
      "metadata": {
        "id": "fkd9QhIo8NnS",
        "colab_type": "text"
      },
      "source": [
        "### Select the Required Columns"
      ]
    },
    {
      "cell_type": "code",
      "metadata": {
        "id": "69yDA9vZ7Iub",
        "colab_type": "code",
        "colab": {}
      },
      "source": [
        "y_df = df[['Species']]\n",
        "x_df = df.drop('Species',axis=1)\n",
        "train_x, test_x, train_y, test_y  = train_test_split(x_df, y_df, test_size=0.2)"
      ],
      "execution_count": 116,
      "outputs": []
    },
    {
      "cell_type": "markdown",
      "metadata": {
        "id": "I5XcDCGA8sbj",
        "colab_type": "text"
      },
      "source": [
        "### Normalize the data\n",
        "There are different ways of performing data normalization e.g. using sklearn standard scalar, minMax Scalar etc.\n"
      ]
    },
    {
      "cell_type": "code",
      "metadata": {
        "id": "EbEyIj2h8o93",
        "colab_type": "code",
        "colab": {}
      },
      "source": [
        "def norm(x):\n",
        "  s = x.describe().transpose()\n",
        "  return (x-s['mean'])/s['std']\n",
        "\n",
        "norm_train_x = norm(train_x)\n",
        "norm_test_x = norm(test_x)"
      ],
      "execution_count": 117,
      "outputs": []
    },
    {
      "cell_type": "markdown",
      "metadata": {
        "id": "63A-EjD89NKQ",
        "colab_type": "text"
      },
      "source": [
        "### Build the Input Pipeline for Tensorflow Model"
      ]
    },
    {
      "cell_type": "code",
      "metadata": {
        "id": "eFLdveSF9Lab",
        "colab_type": "code",
        "colab": {}
      },
      "source": [
        "def input(df, target, epochs=10,shuffle=True, batch_size = 32):\n",
        "  def input_feed_function():\n",
        "    dataset = tf.data.Dataset.from_tensor_slices((dict(df),target))\n",
        "    if shuffle:\n",
        "      dataset.shuffle(2000)\n",
        "    dataset = dataset.batch(batch_size).repeat(epochs)\n",
        "    return dataset\n",
        "  return input_feed_function"
      ],
      "execution_count": 118,
      "outputs": []
    },
    {
      "cell_type": "code",
      "metadata": {
        "id": "JRzPKmez92pB",
        "colab_type": "code",
        "colab": {}
      },
      "source": [
        "train_inp = input(norm_train_x, train_y)\n",
        "train_inp_testing = input(norm_train_x,train_y,epochs=1,shuffle=False)\n",
        "\n",
        "test_inp = input(norm_test_x, test_y)\n",
        "test_inp_testing = input(norm_test_x,test_y,epochs=1,shuffle=False)"
      ],
      "execution_count": 119,
      "outputs": []
    },
    {
      "cell_type": "markdown",
      "metadata": {
        "id": "SxjqtQDF-fv-",
        "colab_type": "text"
      },
      "source": [
        "### Model Training"
      ]
    },
    {
      "cell_type": "code",
      "metadata": {
        "id": "r-bI6SgJ-XNi",
        "colab_type": "code",
        "colab": {}
      },
      "source": [
        "col_num = [tf.feature_column.numeric_column(m) for m in train_x.columns]"
      ],
      "execution_count": 120,
      "outputs": []
    },
    {
      "cell_type": "code",
      "metadata": {
        "id": "KlLIIJDv-xuC",
        "colab_type": "code",
        "colab": {
          "base_uri": "https://localhost:8080/",
          "height": 85
        },
        "outputId": "41856389-5020-4d45-9986-aad8500e2691"
      },
      "source": [
        "col_num"
      ],
      "execution_count": 121,
      "outputs": [
        {
          "output_type": "execute_result",
          "data": {
            "text/plain": [
              "[NumericColumn(key='SepalLength', shape=(1,), default_value=None, dtype=tf.float32, normalizer_fn=None),\n",
              " NumericColumn(key='SepalWidth', shape=(1,), default_value=None, dtype=tf.float32, normalizer_fn=None),\n",
              " NumericColumn(key='PetalLength', shape=(1,), default_value=None, dtype=tf.float32, normalizer_fn=None),\n",
              " NumericColumn(key='PetalWidth', shape=(1,), default_value=None, dtype=tf.float32, normalizer_fn=None)]"
            ]
          },
          "metadata": {
            "tags": []
          },
          "execution_count": 121
        }
      ]
    },
    {
      "cell_type": "code",
      "metadata": {
        "id": "VY3XzCih-zH0",
        "colab_type": "code",
        "colab": {
          "base_uri": "https://localhost:8080/",
          "height": 666
        },
        "outputId": "7004f1d1-9c7d-4c33-d6f9-67a58a2fb0ac"
      },
      "source": [
        "model = BoostedTreesClassifier(feature_columns = col_num, n_batches_per_layer=1)\n",
        "model.train(train_inp)"
      ],
      "execution_count": 122,
      "outputs": [
        {
          "output_type": "stream",
          "text": [
            "INFO:tensorflow:Using default config.\n",
            "WARNING:tensorflow:Using temporary folder as model directory: /tmp/tmpp9er852q\n",
            "INFO:tensorflow:Using config: {'_model_dir': '/tmp/tmpp9er852q', '_tf_random_seed': None, '_save_summary_steps': 100, '_save_checkpoints_steps': None, '_save_checkpoints_secs': 600, '_session_config': allow_soft_placement: true\n",
            "graph_options {\n",
            "  rewrite_options {\n",
            "    meta_optimizer_iterations: ONE\n",
            "  }\n",
            "}\n",
            ", '_keep_checkpoint_max': 5, '_keep_checkpoint_every_n_hours': 10000, '_log_step_count_steps': 100, '_train_distribute': None, '_device_fn': None, '_protocol': None, '_eval_distribute': None, '_experimental_distribute': None, '_experimental_max_worker_delay_secs': None, '_session_creation_timeout_secs': 7200, '_service': None, '_cluster_spec': ClusterSpec({}), '_task_type': 'worker', '_task_id': 0, '_global_id_in_cluster': 0, '_master': '', '_evaluation_master': '', '_is_chief': True, '_num_ps_replicas': 0, '_num_worker_replicas': 1}\n",
            "INFO:tensorflow:Calling model_fn.\n",
            "INFO:tensorflow:Done calling model_fn.\n",
            "INFO:tensorflow:Create CheckpointSaverHook.\n",
            "WARNING:tensorflow:Issue encountered when serializing resources.\n",
            "Type is unsupported, or the types of the items don't match field type in CollectionDef. Note this is a warning and probably safe to ignore.\n",
            "'_Resource' object has no attribute 'name'\n",
            "INFO:tensorflow:Graph was finalized.\n",
            "INFO:tensorflow:Running local_init_op.\n",
            "INFO:tensorflow:Done running local_init_op.\n",
            "WARNING:tensorflow:Issue encountered when serializing resources.\n",
            "Type is unsupported, or the types of the items don't match field type in CollectionDef. Note this is a warning and probably safe to ignore.\n",
            "'_Resource' object has no attribute 'name'\n",
            "INFO:tensorflow:Calling checkpoint listeners before saving checkpoint 0...\n",
            "INFO:tensorflow:Saving checkpoints for 0 into /tmp/tmpp9er852q/model.ckpt.\n",
            "WARNING:tensorflow:Issue encountered when serializing resources.\n",
            "Type is unsupported, or the types of the items don't match field type in CollectionDef. Note this is a warning and probably safe to ignore.\n",
            "'_Resource' object has no attribute 'name'\n",
            "INFO:tensorflow:Calling checkpoint listeners after saving checkpoint 0...\n",
            "INFO:tensorflow:loss = 0.6931472, step = 0\n",
            "WARNING:tensorflow:It seems that global step (tf.train.get_global_step) has not been increased. Current value (could be stable): 0 vs previous value: 0. You could increase the global step by passing tf.train.get_global_step() to Optimizer.apply_gradients or Optimizer.minimize.\n",
            "INFO:tensorflow:Calling checkpoint listeners before saving checkpoint 29...\n",
            "INFO:tensorflow:Saving checkpoints for 29 into /tmp/tmpp9er852q/model.ckpt.\n",
            "WARNING:tensorflow:Issue encountered when serializing resources.\n",
            "Type is unsupported, or the types of the items don't match field type in CollectionDef. Note this is a warning and probably safe to ignore.\n",
            "'_Resource' object has no attribute 'name'\n",
            "INFO:tensorflow:Calling checkpoint listeners after saving checkpoint 29...\n",
            "INFO:tensorflow:Loss for final step: 0.035770185.\n"
          ],
          "name": "stdout"
        },
        {
          "output_type": "execute_result",
          "data": {
            "text/plain": [
              "<tensorflow_estimator.python.estimator.canned.boosted_trees.BoostedTreesClassifier at 0x7f8ea6554be0>"
            ]
          },
          "metadata": {
            "tags": []
          },
          "execution_count": 122
        }
      ]
    },
    {
      "cell_type": "markdown",
      "metadata": {
        "id": "_lPfADSbEt3B",
        "colab_type": "text"
      },
      "source": [
        "### Model Predictions"
      ]
    },
    {
      "cell_type": "code",
      "metadata": {
        "id": "BYj6cInYEqtd",
        "colab_type": "code",
        "colab": {}
      },
      "source": [
        "train_pred = model.predict(train_inp_testing)\n",
        "test_pred = model.predict(test_inp_testing)"
      ],
      "execution_count": 123,
      "outputs": []
    },
    {
      "cell_type": "code",
      "metadata": {
        "id": "By-yJ0yDGvVX",
        "colab_type": "code",
        "colab": {
          "base_uri": "https://localhost:8080/",
          "height": 221
        },
        "outputId": "f97953cc-d824-4086-a20b-920c5ee0f2d9"
      },
      "source": [
        "train_pred = [int(p['classes'][0]) for p in train_pred]\n",
        "test_pred = [int(p['classes'][0]) for p in test_pred]"
      ],
      "execution_count": 124,
      "outputs": [
        {
          "output_type": "stream",
          "text": [
            "INFO:tensorflow:Calling model_fn.\n",
            "INFO:tensorflow:Done calling model_fn.\n",
            "INFO:tensorflow:Graph was finalized.\n",
            "INFO:tensorflow:Restoring parameters from /tmp/tmpp9er852q/model.ckpt-29\n",
            "INFO:tensorflow:Running local_init_op.\n",
            "INFO:tensorflow:Done running local_init_op.\n",
            "INFO:tensorflow:Calling model_fn.\n",
            "INFO:tensorflow:Done calling model_fn.\n",
            "INFO:tensorflow:Graph was finalized.\n",
            "INFO:tensorflow:Restoring parameters from /tmp/tmpp9er852q/model.ckpt-29\n",
            "INFO:tensorflow:Running local_init_op.\n",
            "INFO:tensorflow:Done running local_init_op.\n"
          ],
          "name": "stdout"
        }
      ]
    },
    {
      "cell_type": "code",
      "metadata": {
        "id": "ui1aGFLaHD1q",
        "colab_type": "code",
        "colab": {}
      },
      "source": [
        "train_pred_df = pd.DataFrame(train_pred, columns=['prediction'])\n",
        "test_pred_df = pd.DataFrame(test_pred, columns=['prediction'])"
      ],
      "execution_count": 125,
      "outputs": []
    },
    {
      "cell_type": "code",
      "metadata": {
        "id": "2jx-iPrJHY2N",
        "colab_type": "code",
        "colab": {}
      },
      "source": [
        "train_pred_df = pd.concat([train_y, train_pred_df], axis=1)\n",
        "test_pred_df = pd.concat([test_y, test_pred_df], axis=1)"
      ],
      "execution_count": 126,
      "outputs": []
    },
    {
      "cell_type": "markdown",
      "metadata": {
        "id": "izF1PrgjHpRQ",
        "colab_type": "text"
      },
      "source": [
        "### Validation"
      ]
    },
    {
      "cell_type": "code",
      "metadata": {
        "id": "yLXTx-g0HnPX",
        "colab_type": "code",
        "colab": {
          "base_uri": "https://localhost:8080/",
          "height": 187
        },
        "outputId": "56834849-d1d1-4f94-ea86-3dfac739e16f"
      },
      "source": [
        "def calculate_accuracy_metrices(y_true, y_pred):\n",
        "  accuracy = accuracy_score(y_true, y_pred) \n",
        "  precision = precision_score(y_true, y_pred) \n",
        "  recall = recall_score(y_true, y_pred) \n",
        "  return accuracy, precision, recall\n",
        "\n",
        "print(\"________________________Training Accuracy_____________________\")\n",
        "train_res = calculate_accuracy_metrices(list(train_y['Species']), train_pred)\n",
        "print(train_res)\n",
        "print(\"Train Accuracy : \", train_res[0])\n",
        "print(\"Train Precision : \", train_res[1])\n",
        "print(\"Train Recall : \", train_res[2])\n",
        "print(\"________________________Testing Accuracy_____________________\")\n",
        "test_res = calculate_accuracy_metrices(list(test_y['Species']), test_pred)\n",
        "print(test_res)\n",
        "print(\"Test Accuracy : \", test_res[0])\n",
        "print(\"Test Precision : \", test_res[1])\n",
        "print(\"Test Recall : \", test_res[2])"
      ],
      "execution_count": 127,
      "outputs": [
        {
          "output_type": "stream",
          "text": [
            "________________________Training Accuracy_____________________\n",
            "(0.975, 0.95, 1.0)\n",
            "Train Accuracy :  0.975\n",
            "Train Precision :  0.95\n",
            "Train Recall :  1.0\n",
            "________________________Testing Accuracy_____________________\n",
            "(0.9, 0.9166666666666666, 0.9166666666666666)\n",
            "Test Accuracy :  0.9\n",
            "Test Precision :  0.9166666666666666\n",
            "Test Recall :  0.9166666666666666\n"
          ],
          "name": "stdout"
        }
      ]
    },
    {
      "cell_type": "code",
      "metadata": {
        "id": "u8sD-0hQIhDl",
        "colab_type": "code",
        "colab": {}
      },
      "source": [
        ""
      ],
      "execution_count": null,
      "outputs": []
    }
  ]
}